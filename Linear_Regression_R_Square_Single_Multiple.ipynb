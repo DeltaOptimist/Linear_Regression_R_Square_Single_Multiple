{
  "nbformat": 4,
  "nbformat_minor": 0,
  "metadata": {
    "colab": {
      "name": "Linear_Regression_R_Square_Single_Multiple.ipynb",
      "provenance": []
    },
    "kernelspec": {
      "name": "python3",
      "display_name": "Python 3"
    },
    "language_info": {
      "name": "python"
    }
  },
  "cells": [
    {
      "cell_type": "code",
      "metadata": {
        "id": "xPhdd3RlbQiT"
      },
      "source": [
        "import pandas as pd\n",
        "import numpy as np\n",
        "from sklearn.linear_model import LinearRegression\n",
        "from sklearn.model_selection import train_test_split\n",
        "from sklearn.metrics import mean_squared_error, r2_score\n",
        "import matplotlib.pyplot as plt"
      ],
      "execution_count": 1,
      "outputs": []
    },
    {
      "cell_type": "code",
      "metadata": {
        "id": "9DU4wT5YcRzK"
      },
      "source": [
        "df = pd.read_csv(\"/content/mpg.csv\")"
      ],
      "execution_count": 2,
      "outputs": []
    },
    {
      "cell_type": "code",
      "metadata": {
        "colab": {
          "base_uri": "https://localhost:8080/"
        },
        "id": "_5bmWbvxcbN9",
        "outputId": "f38d7548-c4b5-48da-fb09-5d70db7de6e2"
      },
      "source": [
        "df.dtypes"
      ],
      "execution_count": 3,
      "outputs": [
        {
          "output_type": "execute_result",
          "data": {
            "text/plain": [
              "mpg             float64\n",
              "cylinders         int64\n",
              "displacement    float64\n",
              "horsepower       object\n",
              "weight            int64\n",
              "acceleration    float64\n",
              "model_year        int64\n",
              "origin            int64\n",
              "name             object\n",
              "dtype: object"
            ]
          },
          "metadata": {
            "tags": []
          },
          "execution_count": 3
        }
      ]
    },
    {
      "cell_type": "code",
      "metadata": {
        "colab": {
          "base_uri": "https://localhost:8080/"
        },
        "id": "cojlHbH6ccxh",
        "outputId": "5eb3051d-d095-4b10-d636-e4a497220fc9"
      },
      "source": [
        "df.info()"
      ],
      "execution_count": 4,
      "outputs": [
        {
          "output_type": "stream",
          "text": [
            "<class 'pandas.core.frame.DataFrame'>\n",
            "RangeIndex: 398 entries, 0 to 397\n",
            "Data columns (total 9 columns):\n",
            " #   Column        Non-Null Count  Dtype  \n",
            "---  ------        --------------  -----  \n",
            " 0   mpg           398 non-null    float64\n",
            " 1   cylinders     398 non-null    int64  \n",
            " 2   displacement  398 non-null    float64\n",
            " 3   horsepower    398 non-null    object \n",
            " 4   weight        398 non-null    int64  \n",
            " 5   acceleration  398 non-null    float64\n",
            " 6   model_year    398 non-null    int64  \n",
            " 7   origin        398 non-null    int64  \n",
            " 8   name          398 non-null    object \n",
            "dtypes: float64(3), int64(4), object(2)\n",
            "memory usage: 28.1+ KB\n"
          ],
          "name": "stdout"
        }
      ]
    },
    {
      "cell_type": "code",
      "metadata": {
        "colab": {
          "base_uri": "https://localhost:8080/"
        },
        "id": "I2AQIR6Dcemw",
        "outputId": "40aa040a-6920-49c6-8c9b-5bda185099fa"
      },
      "source": [
        "df.shape"
      ],
      "execution_count": 5,
      "outputs": [
        {
          "output_type": "execute_result",
          "data": {
            "text/plain": [
              "(398, 9)"
            ]
          },
          "metadata": {
            "tags": []
          },
          "execution_count": 5
        }
      ]
    },
    {
      "cell_type": "markdown",
      "metadata": {
        "id": "4AIgQnwmcuAo"
      },
      "source": [
        "Data Cleaning Step"
      ]
    },
    {
      "cell_type": "code",
      "metadata": {
        "colab": {
          "base_uri": "https://localhost:8080/"
        },
        "id": "c1nRJdPYcf4B",
        "outputId": "c34f573a-cdce-4a50-83f9-fadaad50d20b"
      },
      "source": [
        "print (df[pd.to_numeric(df['horsepower'], errors='coerce').isnull()])\n",
        "\n",
        "# in place of errors we can use more options, errors : {'ignore', 'raise', 'coerce'}\n",
        "# default 'raise' -> If 'raise', then invalid parsing will raise an exception. -> \n",
        "# If 'coerce', then invalid parsing will be set as NaN. -> If 'ignore', then invalid parsing will return the input."
      ],
      "execution_count": 8,
      "outputs": [
        {
          "output_type": "stream",
          "text": [
            "      mpg  cylinders  displacement  ... model_year  origin                  name\n",
            "32   25.0          4          98.0  ...         71       1            ford pinto\n",
            "126  21.0          6         200.0  ...         74       1         ford maverick\n",
            "330  40.9          4          85.0  ...         80       2  renault lecar deluxe\n",
            "336  23.6          4         140.0  ...         80       1    ford mustang cobra\n",
            "354  34.5          4         100.0  ...         81       2           renault 18i\n",
            "374  23.0          4         151.0  ...         82       1        amc concord dl\n",
            "\n",
            "[6 rows x 9 columns]\n"
          ],
          "name": "stdout"
        }
      ]
    },
    {
      "cell_type": "markdown",
      "metadata": {
        "id": "ZSwyY7fPdomZ"
      },
      "source": [
        "Cleaning, from the particular column"
      ]
    },
    {
      "cell_type": "code",
      "metadata": {
        "id": "sOEXO8xac0FR"
      },
      "source": [
        "df['horsepower'] = pd.to_numeric(df['horsepower'], errors='coerce')\n",
        "cols = df.columns"
      ],
      "execution_count": 10,
      "outputs": []
    },
    {
      "cell_type": "code",
      "metadata": {
        "colab": {
          "base_uri": "https://localhost:8080/"
        },
        "id": "BEJgGMS0dqMI",
        "outputId": "0367b43d-896b-4069-b7fb-d8c6d18a2472"
      },
      "source": [
        "cols"
      ],
      "execution_count": 11,
      "outputs": [
        {
          "output_type": "execute_result",
          "data": {
            "text/plain": [
              "Index(['mpg', 'cylinders', 'displacement', 'horsepower', 'weight',\n",
              "       'acceleration', 'model_year', 'origin', 'name'],\n",
              "      dtype='object')"
            ]
          },
          "metadata": {
            "tags": []
          },
          "execution_count": 11
        }
      ]
    },
    {
      "cell_type": "markdown",
      "metadata": {
        "id": "Z02y491Vd7Hp"
      },
      "source": [
        "Making all the unwanted value as NaN"
      ]
    },
    {
      "cell_type": "code",
      "metadata": {
        "colab": {
          "base_uri": "https://localhost:8080/",
          "height": 203
        },
        "id": "NiW-X5O9d1ao",
        "outputId": "b77cd254-04f8-4f13-f50f-d458f729d5e9"
      },
      "source": [
        "df[cols] = df[cols].apply(pd.to_numeric, errors='coerce') \n",
        "df.applymap(np.isreal)\n",
        "df.head()"
      ],
      "execution_count": 12,
      "outputs": [
        {
          "output_type": "execute_result",
          "data": {
            "text/html": [
              "<div>\n",
              "<style scoped>\n",
              "    .dataframe tbody tr th:only-of-type {\n",
              "        vertical-align: middle;\n",
              "    }\n",
              "\n",
              "    .dataframe tbody tr th {\n",
              "        vertical-align: top;\n",
              "    }\n",
              "\n",
              "    .dataframe thead th {\n",
              "        text-align: right;\n",
              "    }\n",
              "</style>\n",
              "<table border=\"1\" class=\"dataframe\">\n",
              "  <thead>\n",
              "    <tr style=\"text-align: right;\">\n",
              "      <th></th>\n",
              "      <th>mpg</th>\n",
              "      <th>cylinders</th>\n",
              "      <th>displacement</th>\n",
              "      <th>horsepower</th>\n",
              "      <th>weight</th>\n",
              "      <th>acceleration</th>\n",
              "      <th>model_year</th>\n",
              "      <th>origin</th>\n",
              "      <th>name</th>\n",
              "    </tr>\n",
              "  </thead>\n",
              "  <tbody>\n",
              "    <tr>\n",
              "      <th>0</th>\n",
              "      <td>18.0</td>\n",
              "      <td>8</td>\n",
              "      <td>307.0</td>\n",
              "      <td>130.0</td>\n",
              "      <td>3504</td>\n",
              "      <td>12.0</td>\n",
              "      <td>70</td>\n",
              "      <td>1</td>\n",
              "      <td>NaN</td>\n",
              "    </tr>\n",
              "    <tr>\n",
              "      <th>1</th>\n",
              "      <td>15.0</td>\n",
              "      <td>8</td>\n",
              "      <td>350.0</td>\n",
              "      <td>165.0</td>\n",
              "      <td>3693</td>\n",
              "      <td>11.5</td>\n",
              "      <td>70</td>\n",
              "      <td>1</td>\n",
              "      <td>NaN</td>\n",
              "    </tr>\n",
              "    <tr>\n",
              "      <th>2</th>\n",
              "      <td>18.0</td>\n",
              "      <td>8</td>\n",
              "      <td>318.0</td>\n",
              "      <td>150.0</td>\n",
              "      <td>3436</td>\n",
              "      <td>11.0</td>\n",
              "      <td>70</td>\n",
              "      <td>1</td>\n",
              "      <td>NaN</td>\n",
              "    </tr>\n",
              "    <tr>\n",
              "      <th>3</th>\n",
              "      <td>16.0</td>\n",
              "      <td>8</td>\n",
              "      <td>304.0</td>\n",
              "      <td>150.0</td>\n",
              "      <td>3433</td>\n",
              "      <td>12.0</td>\n",
              "      <td>70</td>\n",
              "      <td>1</td>\n",
              "      <td>NaN</td>\n",
              "    </tr>\n",
              "    <tr>\n",
              "      <th>4</th>\n",
              "      <td>17.0</td>\n",
              "      <td>8</td>\n",
              "      <td>302.0</td>\n",
              "      <td>140.0</td>\n",
              "      <td>3449</td>\n",
              "      <td>10.5</td>\n",
              "      <td>70</td>\n",
              "      <td>1</td>\n",
              "      <td>NaN</td>\n",
              "    </tr>\n",
              "  </tbody>\n",
              "</table>\n",
              "</div>"
            ],
            "text/plain": [
              "    mpg  cylinders  displacement  ...  model_year  origin  name\n",
              "0  18.0          8         307.0  ...          70       1   NaN\n",
              "1  15.0          8         350.0  ...          70       1   NaN\n",
              "2  18.0          8         318.0  ...          70       1   NaN\n",
              "3  16.0          8         304.0  ...          70       1   NaN\n",
              "4  17.0          8         302.0  ...          70       1   NaN\n",
              "\n",
              "[5 rows x 9 columns]"
            ]
          },
          "metadata": {
            "tags": []
          },
          "execution_count": 12
        }
      ]
    },
    {
      "cell_type": "markdown",
      "metadata": {
        "id": "qYSy0NCHePZA"
      },
      "source": [
        "Dropping all the unnecessary columns"
      ]
    },
    {
      "cell_type": "code",
      "metadata": {
        "id": "Q-6YbbO9eDlf"
      },
      "source": [
        "df = df.drop(['name','origin','model_year'], axis=1)\n",
        "df = df.replace('?', np.nan)\n",
        "df = df.dropna()"
      ],
      "execution_count": 13,
      "outputs": []
    },
    {
      "cell_type": "markdown",
      "metadata": {
        "id": "aNxWh07IeZvw"
      },
      "source": [
        "Separating the dependent variable(y) and independent variable(x)"
      ]
    },
    {
      "cell_type": "code",
      "metadata": {
        "id": "yIztzz7FeR6d"
      },
      "source": [
        "X = df.drop('mpg', axis=1) \n",
        "y = df[['mpg']]"
      ],
      "execution_count": 14,
      "outputs": []
    },
    {
      "cell_type": "code",
      "metadata": {
        "colab": {
          "base_uri": "https://localhost:8080/",
          "height": 417
        },
        "id": "JHLe9BRbebe9",
        "outputId": "470404bc-54b0-4dde-edc1-d271499a7f50"
      },
      "source": [
        "X"
      ],
      "execution_count": 15,
      "outputs": [
        {
          "output_type": "execute_result",
          "data": {
            "text/html": [
              "<div>\n",
              "<style scoped>\n",
              "    .dataframe tbody tr th:only-of-type {\n",
              "        vertical-align: middle;\n",
              "    }\n",
              "\n",
              "    .dataframe tbody tr th {\n",
              "        vertical-align: top;\n",
              "    }\n",
              "\n",
              "    .dataframe thead th {\n",
              "        text-align: right;\n",
              "    }\n",
              "</style>\n",
              "<table border=\"1\" class=\"dataframe\">\n",
              "  <thead>\n",
              "    <tr style=\"text-align: right;\">\n",
              "      <th></th>\n",
              "      <th>cylinders</th>\n",
              "      <th>displacement</th>\n",
              "      <th>horsepower</th>\n",
              "      <th>weight</th>\n",
              "      <th>acceleration</th>\n",
              "    </tr>\n",
              "  </thead>\n",
              "  <tbody>\n",
              "    <tr>\n",
              "      <th>0</th>\n",
              "      <td>8</td>\n",
              "      <td>307.0</td>\n",
              "      <td>130.0</td>\n",
              "      <td>3504</td>\n",
              "      <td>12.0</td>\n",
              "    </tr>\n",
              "    <tr>\n",
              "      <th>1</th>\n",
              "      <td>8</td>\n",
              "      <td>350.0</td>\n",
              "      <td>165.0</td>\n",
              "      <td>3693</td>\n",
              "      <td>11.5</td>\n",
              "    </tr>\n",
              "    <tr>\n",
              "      <th>2</th>\n",
              "      <td>8</td>\n",
              "      <td>318.0</td>\n",
              "      <td>150.0</td>\n",
              "      <td>3436</td>\n",
              "      <td>11.0</td>\n",
              "    </tr>\n",
              "    <tr>\n",
              "      <th>3</th>\n",
              "      <td>8</td>\n",
              "      <td>304.0</td>\n",
              "      <td>150.0</td>\n",
              "      <td>3433</td>\n",
              "      <td>12.0</td>\n",
              "    </tr>\n",
              "    <tr>\n",
              "      <th>4</th>\n",
              "      <td>8</td>\n",
              "      <td>302.0</td>\n",
              "      <td>140.0</td>\n",
              "      <td>3449</td>\n",
              "      <td>10.5</td>\n",
              "    </tr>\n",
              "    <tr>\n",
              "      <th>...</th>\n",
              "      <td>...</td>\n",
              "      <td>...</td>\n",
              "      <td>...</td>\n",
              "      <td>...</td>\n",
              "      <td>...</td>\n",
              "    </tr>\n",
              "    <tr>\n",
              "      <th>393</th>\n",
              "      <td>4</td>\n",
              "      <td>140.0</td>\n",
              "      <td>86.0</td>\n",
              "      <td>2790</td>\n",
              "      <td>15.6</td>\n",
              "    </tr>\n",
              "    <tr>\n",
              "      <th>394</th>\n",
              "      <td>4</td>\n",
              "      <td>97.0</td>\n",
              "      <td>52.0</td>\n",
              "      <td>2130</td>\n",
              "      <td>24.6</td>\n",
              "    </tr>\n",
              "    <tr>\n",
              "      <th>395</th>\n",
              "      <td>4</td>\n",
              "      <td>135.0</td>\n",
              "      <td>84.0</td>\n",
              "      <td>2295</td>\n",
              "      <td>11.6</td>\n",
              "    </tr>\n",
              "    <tr>\n",
              "      <th>396</th>\n",
              "      <td>4</td>\n",
              "      <td>120.0</td>\n",
              "      <td>79.0</td>\n",
              "      <td>2625</td>\n",
              "      <td>18.6</td>\n",
              "    </tr>\n",
              "    <tr>\n",
              "      <th>397</th>\n",
              "      <td>4</td>\n",
              "      <td>119.0</td>\n",
              "      <td>82.0</td>\n",
              "      <td>2720</td>\n",
              "      <td>19.4</td>\n",
              "    </tr>\n",
              "  </tbody>\n",
              "</table>\n",
              "<p>392 rows × 5 columns</p>\n",
              "</div>"
            ],
            "text/plain": [
              "     cylinders  displacement  horsepower  weight  acceleration\n",
              "0            8         307.0       130.0    3504          12.0\n",
              "1            8         350.0       165.0    3693          11.5\n",
              "2            8         318.0       150.0    3436          11.0\n",
              "3            8         304.0       150.0    3433          12.0\n",
              "4            8         302.0       140.0    3449          10.5\n",
              "..         ...           ...         ...     ...           ...\n",
              "393          4         140.0        86.0    2790          15.6\n",
              "394          4          97.0        52.0    2130          24.6\n",
              "395          4         135.0        84.0    2295          11.6\n",
              "396          4         120.0        79.0    2625          18.6\n",
              "397          4         119.0        82.0    2720          19.4\n",
              "\n",
              "[392 rows x 5 columns]"
            ]
          },
          "metadata": {
            "tags": []
          },
          "execution_count": 15
        }
      ]
    },
    {
      "cell_type": "code",
      "metadata": {
        "colab": {
          "base_uri": "https://localhost:8080/",
          "height": 417
        },
        "id": "ABrlCaaZelCj",
        "outputId": "2a684bcb-3cf2-4d67-e57c-922d6dbc72bd"
      },
      "source": [
        "y"
      ],
      "execution_count": 16,
      "outputs": [
        {
          "output_type": "execute_result",
          "data": {
            "text/html": [
              "<div>\n",
              "<style scoped>\n",
              "    .dataframe tbody tr th:only-of-type {\n",
              "        vertical-align: middle;\n",
              "    }\n",
              "\n",
              "    .dataframe tbody tr th {\n",
              "        vertical-align: top;\n",
              "    }\n",
              "\n",
              "    .dataframe thead th {\n",
              "        text-align: right;\n",
              "    }\n",
              "</style>\n",
              "<table border=\"1\" class=\"dataframe\">\n",
              "  <thead>\n",
              "    <tr style=\"text-align: right;\">\n",
              "      <th></th>\n",
              "      <th>mpg</th>\n",
              "    </tr>\n",
              "  </thead>\n",
              "  <tbody>\n",
              "    <tr>\n",
              "      <th>0</th>\n",
              "      <td>18.0</td>\n",
              "    </tr>\n",
              "    <tr>\n",
              "      <th>1</th>\n",
              "      <td>15.0</td>\n",
              "    </tr>\n",
              "    <tr>\n",
              "      <th>2</th>\n",
              "      <td>18.0</td>\n",
              "    </tr>\n",
              "    <tr>\n",
              "      <th>3</th>\n",
              "      <td>16.0</td>\n",
              "    </tr>\n",
              "    <tr>\n",
              "      <th>4</th>\n",
              "      <td>17.0</td>\n",
              "    </tr>\n",
              "    <tr>\n",
              "      <th>...</th>\n",
              "      <td>...</td>\n",
              "    </tr>\n",
              "    <tr>\n",
              "      <th>393</th>\n",
              "      <td>27.0</td>\n",
              "    </tr>\n",
              "    <tr>\n",
              "      <th>394</th>\n",
              "      <td>44.0</td>\n",
              "    </tr>\n",
              "    <tr>\n",
              "      <th>395</th>\n",
              "      <td>32.0</td>\n",
              "    </tr>\n",
              "    <tr>\n",
              "      <th>396</th>\n",
              "      <td>28.0</td>\n",
              "    </tr>\n",
              "    <tr>\n",
              "      <th>397</th>\n",
              "      <td>31.0</td>\n",
              "    </tr>\n",
              "  </tbody>\n",
              "</table>\n",
              "<p>392 rows × 1 columns</p>\n",
              "</div>"
            ],
            "text/plain": [
              "      mpg\n",
              "0    18.0\n",
              "1    15.0\n",
              "2    18.0\n",
              "3    16.0\n",
              "4    17.0\n",
              "..    ...\n",
              "393  27.0\n",
              "394  44.0\n",
              "395  32.0\n",
              "396  28.0\n",
              "397  31.0\n",
              "\n",
              "[392 rows x 1 columns]"
            ]
          },
          "metadata": {
            "tags": []
          },
          "execution_count": 16
        }
      ]
    },
    {
      "cell_type": "markdown",
      "metadata": {
        "id": "vLQeUba-fol_"
      },
      "source": [
        "Drop all the Nan values from the dataset"
      ]
    },
    {
      "cell_type": "code",
      "metadata": {
        "id": "BK37qFhSemwG"
      },
      "source": [
        "df=df.dropna()"
      ],
      "execution_count": 17,
      "outputs": []
    },
    {
      "cell_type": "markdown",
      "metadata": {
        "id": "_LgeH5ejf1pf"
      },
      "source": [
        "Making training and testing dataset"
      ]
    },
    {
      "cell_type": "code",
      "metadata": {
        "id": "RN4ykJ-mfsCa"
      },
      "source": [
        "X_train, X_test, y_train, y_test = train_test_split(X, y, test_size=0.2, random_state=1)"
      ],
      "execution_count": 18,
      "outputs": []
    },
    {
      "cell_type": "markdown",
      "metadata": {
        "id": "dh_pLe6ef9vU"
      },
      "source": [
        "Linear regression and finding the best fit line for only one column"
      ]
    },
    {
      "cell_type": "code",
      "metadata": {
        "colab": {
          "base_uri": "https://localhost:8080/"
        },
        "id": "p4dsC4Z6f4aq",
        "outputId": "69aba25a-c0fc-484c-abcb-d44e7ed9d97b"
      },
      "source": [
        "reg = LinearRegression()\n",
        "reg.fit(X_train[['horsepower']], y_train)"
      ],
      "execution_count": 19,
      "outputs": [
        {
          "output_type": "execute_result",
          "data": {
            "text/plain": [
              "LinearRegression(copy_X=True, fit_intercept=True, n_jobs=None, normalize=False)"
            ]
          },
          "metadata": {
            "tags": []
          },
          "execution_count": 19
        }
      ]
    },
    {
      "cell_type": "markdown",
      "metadata": {
        "id": "cWacuGApgDhI"
      },
      "source": [
        "Predicting the value"
      ]
    },
    {
      "cell_type": "code",
      "metadata": {
        "id": "fcClWYyhgAET"
      },
      "source": [
        "y_predicted = reg.predict(X_test[['horsepower']])"
      ],
      "execution_count": 20,
      "outputs": []
    },
    {
      "cell_type": "code",
      "metadata": {
        "colab": {
          "base_uri": "https://localhost:8080/"
        },
        "id": "66UId1KYgRhD",
        "outputId": "16c1da29-3558-4a15-d278-b5de9317038b"
      },
      "source": [
        "y_predicted"
      ],
      "execution_count": 21,
      "outputs": [
        {
          "output_type": "execute_result",
          "data": {
            "text/plain": [
              "array([[24.34050938],\n",
              "       [27.81451133],\n",
              "       [27.81451133],\n",
              "       [21.97187169],\n",
              "       [29.07778477],\n",
              "       [26.5512379 ],\n",
              "       [28.76196641],\n",
              "       [15.97132287],\n",
              "       [25.13005528],\n",
              "       [28.28823887],\n",
              "       [21.49814415],\n",
              "       [27.65660215],\n",
              "       [19.12950646],\n",
              "       [28.60405723],\n",
              "       [26.39332872],\n",
              "       [17.55041467],\n",
              "       [26.39332872],\n",
              "       [32.07805918],\n",
              "       [ 4.91768031],\n",
              "       [23.86678185],\n",
              "       [27.81451133],\n",
              "       [22.28769005],\n",
              "       [15.97132287],\n",
              "       [12.81313928],\n",
              "       [ 8.39168226],\n",
              "       [15.97132287],\n",
              "       [28.91987559],\n",
              "       [23.86678185],\n",
              "       [22.28769005],\n",
              "       [26.39332872],\n",
              "       [16.76086877],\n",
              "       [25.761692  ],\n",
              "       [15.18177698],\n",
              "       [21.97187169],\n",
              "       [23.07723595],\n",
              "       [17.55041467],\n",
              "       [24.65632774],\n",
              "       [23.07723595],\n",
              "       [29.07778477],\n",
              "       [25.761692  ],\n",
              "       [ 9.6549557 ],\n",
              "       [12.02359339],\n",
              "       [20.3927799 ],\n",
              "       [23.86678185],\n",
              "       [23.86678185],\n",
              "       [22.28769005],\n",
              "       [15.97132287],\n",
              "       [28.91987559],\n",
              "       [23.86678185],\n",
              "       [ 5.70722621],\n",
              "       [15.97132287],\n",
              "       [24.65632774],\n",
              "       [25.44587364],\n",
              "       [26.39332872],\n",
              "       [29.86733066],\n",
              "       [24.34050938],\n",
              "       [21.49814415],\n",
              "       [26.23541954],\n",
              "       [25.44587364],\n",
              "       [30.18314902],\n",
              "       [26.23541954],\n",
              "       [26.07751036],\n",
              "       [29.39360313],\n",
              "       [22.28769005],\n",
              "       [25.44587364],\n",
              "       [25.44587364],\n",
              "       [25.761692  ],\n",
              "       [14.39223108],\n",
              "       [28.44614805],\n",
              "       [11.23404749],\n",
              "       [25.13005528],\n",
              "       [19.91905236],\n",
              "       [15.97132287],\n",
              "       [27.34078379],\n",
              "       [21.81396251],\n",
              "       [27.02496543],\n",
              "       [ 4.12813442],\n",
              "       [15.97132287],\n",
              "       [13.60268518]])"
            ]
          },
          "metadata": {
            "tags": []
          },
          "execution_count": 21
        }
      ]
    },
    {
      "cell_type": "markdown",
      "metadata": {
        "id": "5gRRG-OsgYq7"
      },
      "source": [
        "Evalution matrices"
      ]
    },
    {
      "cell_type": "code",
      "metadata": {
        "colab": {
          "base_uri": "https://localhost:8080/"
        },
        "id": "QuvKumFTgWVp",
        "outputId": "1baf5a52-4b8a-4839-d126-3a2459074802"
      },
      "source": [
        "print(\"Mean squared error: %.2f\" % mean_squared_error(y_test, y_predicted))\n",
        "\n",
        "print('R²: %.2f' % r2_score(y_test, y_predicted))"
      ],
      "execution_count": 22,
      "outputs": [
        {
          "output_type": "stream",
          "text": [
            "Mean squared error: 28.66\n",
            "R²: 0.59\n"
          ],
          "name": "stdout"
        }
      ]
    },
    {
      "cell_type": "markdown",
      "metadata": {
        "id": "vfMLiRAEgh80"
      },
      "source": [
        "Finding the best fit line for more than one column"
      ]
    },
    {
      "cell_type": "code",
      "metadata": {
        "colab": {
          "base_uri": "https://localhost:8080/"
        },
        "id": "zBv716yhgcf_",
        "outputId": "10eb5e34-87da-4aa0-ac29-ceea8c791b23"
      },
      "source": [
        "reg.fit(X_train[['horsepower','weight','cylinders']], y_train)\n",
        "y_predicted = reg.predict(X_test[['horsepower','weight','cylinders']])\n",
        "\n",
        "print(\"Mean squared error: %.2f\" % mean_squared_error(y_test, y_predicted))\n",
        "print('R²: %.2f' % r2_score(y_test, y_predicted))"
      ],
      "execution_count": 23,
      "outputs": [
        {
          "output_type": "stream",
          "text": [
            "Mean squared error: 19.12\n",
            "R²: 0.72\n"
          ],
          "name": "stdout"
        }
      ]
    },
    {
      "cell_type": "code",
      "metadata": {
        "id": "QNuzDVkTgkNb"
      },
      "source": [
        ""
      ],
      "execution_count": null,
      "outputs": []
    }
  ]
}